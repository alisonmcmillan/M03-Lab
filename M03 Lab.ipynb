{
 "cells": [
  {
   "cell_type": "code",
   "execution_count": 1,
   "id": "cd10eef2-6b0a-4e83-b6b8-b702e7017668",
   "metadata": {},
   "outputs": [
    {
     "name": "stdout",
     "output_type": "stream",
     "text": [
      "Please enter the details of the car:\n"
     ]
    },
    {
     "name": "stdin",
     "output_type": "stream",
     "text": [
      "Year:  2006\n",
      "Make:  Pontaic\n",
      "Model:  G6\n",
      "Number of doors (2 or 4):  4\n",
      "Type of roof (solid or sun roof):  solid\n"
     ]
    },
    {
     "name": "stdout",
     "output_type": "stream",
     "text": [
      "\n",
      "Vehicle type: car\n",
      "Year: 2006\n",
      "Make: Pontaic\n",
      "Model: G6\n",
      "Number of doors: 4\n",
      "Type of roof: solid\n"
     ]
    }
   ],
   "source": [
    "class Vehicle:\n",
    "    def __init__(self, vehicle_type):\n",
    "        self.vehicle_type = vehicle_type\n",
    "\n",
    "class Automobile(Vehicle):\n",
    "    def __init__(self, vehicle_type, year, make, model, doors, roof):\n",
    "        super().__init__(vehicle_type)\n",
    "        self.year = year\n",
    "        self.make = make\n",
    "        self.model = model\n",
    "        self.doors = doors\n",
    "        self.roof = roof\n",
    "\n",
    "def create_car():\n",
    "    print(\"Please enter the details of the car:\")\n",
    "    year = input(\"Year: \")\n",
    "    make = input(\"Make: \")\n",
    "    model = input(\"Model: \")\n",
    "    doors = input(\"Number of doors (2 or 4): \")\n",
    "    while doors not in ['2', '4']:\n",
    "        doors = input(\"Please enter either 2 or 4 for the number of doors: \")\n",
    "    doors = int(doors)\n",
    "    roof = input(\"Type of roof (solid or sun roof): \")\n",
    "    while roof not in ['solid', 'sun roof']:\n",
    "        roof = input(\"Please enter either 'solid' or 'sun roof' for the type of roof: \")\n",
    "\n",
    "    car = Automobile(\"car\", year, make, model, doors, roof)\n",
    "    return car\n",
    "\n",
    "def display_car(car):\n",
    "    print(\"\\nVehicle type:\", car.vehicle_type)\n",
    "    print(\"Year:\", car.year)\n",
    "    print(\"Make:\", car.make)\n",
    "    print(\"Model:\", car.model)\n",
    "    print(\"Number of doors:\", car.doors)\n",
    "    print(\"Type of roof:\", car.roof)\n",
    "\n",
    "def main():\n",
    "    car = create_car()\n",
    "    display_car(car)\n",
    "\n",
    "if __name__ == \"__main__\":\n",
    "    main()"
   ]
  }
 ],
 "metadata": {
  "kernelspec": {
   "display_name": "Python 3 (ipykernel)",
   "language": "python",
   "name": "python3"
  },
  "language_info": {
   "codemirror_mode": {
    "name": "ipython",
    "version": 3
   },
   "file_extension": ".py",
   "mimetype": "text/x-python",
   "name": "python",
   "nbconvert_exporter": "python",
   "pygments_lexer": "ipython3",
   "version": "3.11.7"
  }
 },
 "nbformat": 4,
 "nbformat_minor": 5
}
